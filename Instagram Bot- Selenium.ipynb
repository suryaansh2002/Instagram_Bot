{
 "cells": [
  {
   "cell_type": "code",
   "execution_count": 6,
   "metadata": {},
   "outputs": [],
   "source": [
    "from selenium import webdriver\n",
    "from selenium.webdriver.common.keys import Keys\n",
    "from selenium.webdriver.common.by import By\n",
    "from selenium.webdriver.common.by import By\n",
    "from selenium.webdriver.support.ui import WebDriverWait\n",
    "from selenium.webdriver.support import expected_conditions as EC"
   ]
  },
  {
   "cell_type": "code",
   "execution_count": 182,
   "metadata": {},
   "outputs": [],
   "source": [
    "class InstagramBot():\n",
    "    \n",
    "    def __init__(self):\n",
    "        PATH='C:\\\\Users\\\\surya\\\\Desktop\\\\Web-Scrapping\\\\chromedriver.exe'\n",
    "        self.driver=webdriver.Chrome(PATH)\n",
    "        \n",
    "    def login(self,username,password):\n",
    "        url=\"https://www.instagram.com/\"\n",
    "        self.driver.get(url)\n",
    "        time.sleep(3)\n",
    "        user_field=self.driver.find_element_by_name(\"username\")\n",
    "        pass_field=self.driver.find_element_by_name(\"password\")\n",
    "        login=self.driver.find_element_by_tag_name(\"button\")\n",
    "        user_field.send_keys(username)\n",
    "        pass_field.send_keys(password)\n",
    "        login.click()\n",
    "        time.sleep(5)\n",
    "        try:\n",
    "            self.driver.find_element_by_xpath(\"// *[contains(text(),'Not Now')]\").click()\n",
    "        except: \n",
    "            pass\n",
    "\n",
    "\n",
    "\n",
    "        try:\n",
    "            self.driver.find_element_by_xpath(\"// *[contains(text(),'Not Now')]\").click()\n",
    "        except: \n",
    "            pass   \n",
    "        \n",
    "    def unfollow(self,profile):\n",
    "        url=\"https://www.instagram.com/\"\n",
    "        time.sleep(2)\n",
    "        self.driver.get(f\"{url}{profile}\")\n",
    "        self.driver.find_element_by_xpath(\"//span[@aria-label='Following']\").click()\n",
    "        time.sleep(2)\n",
    "        a=self.driver.find_elements_by_xpath(\"// *[contains(text(),'Unfollow')]\")\n",
    "        a[-1].click()\n",
    "\n",
    "    def follow(self,profile):\n",
    "        url=\"https://www.instagram.com/\"\n",
    "        self.driver.get(f\"{url}{profile}\")\n",
    "        self.driver.find_elements_by_tag_name(\"button\")[0].click()\n",
    "\n",
    "    def block(self,profile):\n",
    "        self.driver.get(f\"{url}{profile}\")\n",
    "        self.driver.find_element_by_xpath(\"//*[@aria-label='Options']\").click()\n",
    "        time.sleep(1)\n",
    "        self.driver.find_element_by_xpath(\"// *[contains(text(),'Block this user')]\").click()\n",
    "        self.driver.find_element_by_class_name(\"bIiDR\").click()\n",
    "\n",
    "\n",
    "    def dm(self,profile,message):\n",
    "        url=\"https://www.instagram.com/\"\n",
    "        self.driver.get(f\"{url}direct/new/\")\n",
    "        search=self.driver.find_elements_by_tag_name(\"input\")[1]\n",
    "        search.send_keys(profile)\n",
    "        time.sleep(2)\n",
    "        self.driver.find_element_by_xpath(\"//span[@aria-label='Toggle selection']\").click()\n",
    "        self.driver.find_element_by_xpath(\"// *[contains(text(),'Next')]\").click()\n",
    "        time.sleep(3)\n",
    "        self.driver.find_element_by_tag_name(\"textarea\").send_keys(message)\n",
    "        self.driver.find_element_by_xpath(\"// *[contains(text(),'Send')]\").click()\n",
    "\n",
    "\n",
    "    "
   ]
  },
  {
   "cell_type": "code",
   "execution_count": 183,
   "metadata": {},
   "outputs": [],
   "source": [
    "username=\"\"\n",
    "password=\"\""
   ]
  },
  {
   "cell_type": "code",
   "execution_count": 184,
   "metadata": {},
   "outputs": [],
   "source": [
    "message=\"\"\n",
    "profile=\"\""
   ]
  },
  {
   "cell_type": "code",
   "execution_count": 189,
   "metadata": {},
   "outputs": [],
   "source": [
    "bot=InstagramBot()"
   ]
  },
  {
   "cell_type": "code",
   "execution_count": 190,
   "metadata": {},
   "outputs": [],
   "source": [
    "bot.login(username,password)"
   ]
  },
  {
   "cell_type": "code",
   "execution_count": 191,
   "metadata": {},
   "outputs": [],
   "source": [
    "bot.unfollow(profile)"
   ]
  },
  {
   "cell_type": "code",
   "execution_count": 192,
   "metadata": {},
   "outputs": [],
   "source": [
    "bot.follow(profile)"
   ]
  },
  {
   "cell_type": "code",
   "execution_count": 187,
   "metadata": {},
   "outputs": [],
   "source": [
    "bot.block(profile)"
   ]
  },
  {
   "cell_type": "code",
   "execution_count": 193,
   "metadata": {},
   "outputs": [],
   "source": [
    "bot.dm(profile,message)"
   ]
  },
  {
   "cell_type": "code",
   "execution_count": null,
   "metadata": {},
   "outputs": [],
   "source": []
  }
 ],
 "metadata": {
  "kernelspec": {
   "display_name": "Python 3",
   "language": "python",
   "name": "python3"
  },
  "language_info": {
   "codemirror_mode": {
    "name": "ipython",
    "version": 3
   },
   "file_extension": ".py",
   "mimetype": "text/x-python",
   "name": "python",
   "nbconvert_exporter": "python",
   "pygments_lexer": "ipython3",
   "version": "3.8.3"
  }
 },
 "nbformat": 4,
 "nbformat_minor": 4
}
